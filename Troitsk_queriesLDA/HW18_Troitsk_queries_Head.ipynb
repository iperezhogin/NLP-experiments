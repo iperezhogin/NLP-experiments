{
 "cells": [
  {
   "cell_type": "code",
   "execution_count": 213,
   "metadata": {},
   "outputs": [],
   "source": [
    "import requests\n",
    "import re\n",
    "from bs4 import BeautifulSoup\n",
    "import pandas as pd\n",
    "import time\n",
    "import sys\n",
    "\n",
    "from tqdm import tqdm\n",
    "from fake_useragent import UserAgent"
   ]
  },
  {
   "cell_type": "markdown",
   "metadata": {},
   "source": [
    "# Парсим обращения жителей к главе города Троицк (Москва)"
   ]
  },
  {
   "cell_type": "code",
   "execution_count": 14,
   "metadata": {},
   "outputs": [],
   "source": [
    "main_link=\"http://appeal.admtroitsk.ru/viewforum.php?f=9\""
   ]
  },
  {
   "cell_type": "code",
   "execution_count": 41,
   "metadata": {},
   "outputs": [],
   "source": [
    "root_link=\"http://appeal.admtroitsk.ru\""
   ]
  },
  {
   "cell_type": "markdown",
   "metadata": {},
   "source": [
    "### Интересующие аттрибуты:"
   ]
  },
  {
   "cell_type": "code",
   "execution_count": 125,
   "metadata": {},
   "outputs": [],
   "source": [
    "col_names=[\"link\",\"date\",\"views\", \"author\", \"title\", \"text\"]"
   ]
  },
  {
   "cell_type": "markdown",
   "metadata": {},
   "source": [
    "# Парсинг:"
   ]
  },
  {
   "cell_type": "code",
   "execution_count": 15,
   "metadata": {},
   "outputs": [],
   "source": [
    "#&mode=&start=0\n",
    "def page_n(n):\n",
    "    return \"&mode=&start=\"+str(n*10)"
   ]
  },
  {
   "cell_type": "markdown",
   "metadata": {},
   "source": [
    "### Номер последней страницы обращений к главе города - 1000 (16.05.2017)\n",
    "### (всего 1000 с небольшим обращений, по 10 обращений на странице)"
   ]
  },
  {
   "cell_type": "code",
   "execution_count": 171,
   "metadata": {},
   "outputs": [],
   "source": [
    "page_link=main_link+page_n(5)"
   ]
  },
  {
   "cell_type": "code",
   "execution_count": 172,
   "metadata": {},
   "outputs": [],
   "source": [
    "def get_soup(page_link):\n",
    "    response = requests.get(page_link, headers={'User-Agent': UserAgent().chrome})\n",
    "    soup = BeautifulSoup(response.content, \"html.parser\")\n",
    "    return soup"
   ]
  },
  {
   "cell_type": "code",
   "execution_count": 173,
   "metadata": {},
   "outputs": [],
   "source": [
    "soup = get_soup(page_link)"
   ]
  },
  {
   "cell_type": "code",
   "execution_count": 174,
   "metadata": {},
   "outputs": [],
   "source": [
    "item_data = soup.findAll(\"div\", attrs={'class':'white-bg nopadding'})"
   ]
  },
  {
   "cell_type": "code",
   "execution_count": 175,
   "metadata": {},
   "outputs": [
    {
     "data": {
      "text/plain": [
       "10"
      ]
     },
     "execution_count": 175,
     "metadata": {},
     "output_type": "execute_result"
    }
   ],
   "source": [
    "len(item_data)"
   ]
  },
  {
   "cell_type": "code",
   "execution_count": 176,
   "metadata": {},
   "outputs": [],
   "source": [
    "item_info=item_data[0]"
   ]
  },
  {
   "cell_type": "code",
   "execution_count": 177,
   "metadata": {},
   "outputs": [
    {
     "data": {
      "text/plain": [
       "<div class=\"white-bg nopadding\">\n",
       "<div class=\"forumrow_container topicrow_container\">\n",
       "<div class=\"icon\" id=\"icon5284\" rel=\"9\">\n",
       "<a class=\"tooltipped\" data-tooltip=\"Перейти к последнему сообщению\" href=\"./viewtopic.php?f=9&amp;t=5284&amp;p=17025#p17025\"><i aria-hidden=\"true\" class=\"fa fa-comment-o\"></i></a>\n",
       "</div>\n",
       "<div class=\"topic_author\"><a class=\"username\" href=\"./memberlist.php?mode=viewprofile&amp;u=1451\">tvantenna</a></div>\n",
       "<a class=\"forumrow topicrow white-bg answered_topic\" href=\"./viewtopic.php?f=9&amp;t=5284\">\n",
       "<h3>Случай с короновирусом.Никому не нужны</h3>\n",
       "<i aria-hidden=\"true\" class=\"fa fa-clock-o\"></i> 22.04.2020 16:40 <i aria-hidden=\"true\" class=\"fa fa-calendar-check-o\"></i> 9 <i aria-hidden=\"true\" class=\"fa fa-eye\"></i> 1100\n",
       "\t\t\t<!-- topic_read_locked Эта тема закрыта, Вы не можете редактировать и оставлять сообщения в ней.<br> -->\n",
       "</a>\n",
       "</div>\n",
       "</div>"
      ]
     },
     "execution_count": 177,
     "metadata": {},
     "output_type": "execute_result"
    }
   ],
   "source": [
    "item_info"
   ]
  },
  {
   "cell_type": "code",
   "execution_count": 74,
   "metadata": {},
   "outputs": [],
   "source": [
    "def get_item_ref(item_info, rt_link=\"http://appeal.admtroitsk.ru\"):\n",
    "    item_ref=item_info.findAll(\"a\",attrs={'class':'tooltipped'})\n",
    "    rel_ref=None if not item_ref else item_ref[0]['href'][1:]\n",
    "    item_link=None if not rel_ref else rt_link+rel_ref\n",
    "    return item_link"
   ]
  },
  {
   "cell_type": "code",
   "execution_count": 76,
   "metadata": {},
   "outputs": [],
   "source": [
    "def get_item_author(item_info):\n",
    "    auth_l=item_info.findAll(\"a\",attrs={'class':'username'})\n",
    "    auth=None if not auth_l else auth_l[0].text\n",
    "    return auth"
   ]
  },
  {
   "cell_type": "code",
   "execution_count": 80,
   "metadata": {},
   "outputs": [],
   "source": [
    "def get_header(item_info):\n",
    "    hd=item_info.find('h3')\n",
    "    header=None if not hd else hd.text.replace('.','')\n",
    "    return header"
   ]
  },
  {
   "cell_type": "code",
   "execution_count": 185,
   "metadata": {},
   "outputs": [],
   "source": [
    "def get_text_date(ref):\n",
    "    item_cont=get_soup(ref)\n",
    "    text_data=item_cont.find(\"div\", attrs={'class':'message'})\n",
    "    text=None if not text_data else text_data.text\n",
    "    date=item_cont.find(\"p\", attrs={'class':'date'})\n",
    "    date_time=None if not date else date.text\n",
    "    return text, date_time"
   ]
  },
  {
   "cell_type": "code",
   "execution_count": 199,
   "metadata": {},
   "outputs": [],
   "source": [
    "def get_views(item_info):\n",
    "    date=item_info.find('a', attrs={'class':'forumrow topicrow white-bg answered_topic'})\n",
    "    if not date:\n",
    "        return None\n",
    "    else:\n",
    "        dd=date.text.strip()\n",
    "    tokens=dd.split()\n",
    "    views=tokens[-1]\n",
    "    return views"
   ]
  },
  {
   "cell_type": "code",
   "execution_count": 187,
   "metadata": {},
   "outputs": [],
   "source": [
    "def get_data_line(item_info):\n",
    "    ref=get_item_ref(item_info)\n",
    "    author=get_item_author(item_info)\n",
    "    views=get_views(item_info)\n",
    "    header=get_header(item_info)\n",
    "    text,date=get_text_date(ref)\n",
    "    #header, date, views=get_aux_data(item_info)\n",
    "    return {'link':ref,'date':date,'views':views,'author':author,'title':header,'text':text}"
   ]
  },
  {
   "cell_type": "code",
   "execution_count": 214,
   "metadata": {},
   "outputs": [
    {
     "name": "stderr",
     "output_type": "stream",
     "text": [
      "100%|████████████████████████████████████████████████████████████████████████████████| 101/101 [18:41<00:00, 11.11s/it]\n"
     ]
    }
   ],
   "source": [
    "Dudochkin_data_v2=pd.DataFrame(columns=col_names)\n",
    "for i in tqdm(range(0,101)):\n",
    "    page_link=main_link+page_n(i)\n",
    "    soup = get_soup(page_link)\n",
    "    item_data = soup.findAll(\"div\", attrs={'class':'white-bg nopadding'})\n",
    "    time.sleep(0.1)\n",
    "    for item_info in item_data:\n",
    "        Dudochkin_data_v2=Dudochkin_data_v2.append(get_data_line(item_info),ignore_index=True)\n",
    "        time.sleep(0.1)"
   ]
  },
  {
   "cell_type": "code",
   "execution_count": 215,
   "metadata": {},
   "outputs": [],
   "source": [
    "Dudochkin_data_v2.to_csv(\"Dudochkin_queries_v2.csv\", header=Dudochkin_data_v2.columns)"
   ]
  },
  {
   "cell_type": "code",
   "execution_count": 216,
   "metadata": {},
   "outputs": [
    {
     "data": {
      "text/html": [
       "<div>\n",
       "<style scoped>\n",
       "    .dataframe tbody tr th:only-of-type {\n",
       "        vertical-align: middle;\n",
       "    }\n",
       "\n",
       "    .dataframe tbody tr th {\n",
       "        vertical-align: top;\n",
       "    }\n",
       "\n",
       "    .dataframe thead th {\n",
       "        text-align: right;\n",
       "    }\n",
       "</style>\n",
       "<table border=\"1\" class=\"dataframe\">\n",
       "  <thead>\n",
       "    <tr style=\"text-align: right;\">\n",
       "      <th></th>\n",
       "      <th>link</th>\n",
       "      <th>date</th>\n",
       "      <th>views</th>\n",
       "      <th>author</th>\n",
       "      <th>title</th>\n",
       "      <th>text</th>\n",
       "    </tr>\n",
       "  </thead>\n",
       "  <tbody>\n",
       "    <tr>\n",
       "      <th>0</th>\n",
       "      <td>http://appeal.admtroitsk.ru/viewtopic.php?f=9&amp;...</td>\n",
       "      <td>Сегодня 13:39</td>\n",
       "      <td>None</td>\n",
       "      <td>Lappusyonok</td>\n",
       "      <td>Устраните последствия непогоды</td>\n",
       "      <td>Здравствуйте, на крыше дома по адресу микрорай...</td>\n",
       "    </tr>\n",
       "    <tr>\n",
       "      <th>1</th>\n",
       "      <td>http://appeal.admtroitsk.ru/viewtopic.php?f=9&amp;...</td>\n",
       "      <td>Сегодня 00:23</td>\n",
       "      <td>None</td>\n",
       "      <td>Anton1983</td>\n",
       "      <td>Площадка на ул Солнечной 4/6 Центральная 30</td>\n",
       "      <td>Поймите, как жителей людей, чьи окна выходят в...</td>\n",
       "    </tr>\n",
       "    <tr>\n",
       "      <th>2</th>\n",
       "      <td>http://appeal.admtroitsk.ru/viewtopic.php?f=9&amp;...</td>\n",
       "      <td>12.06.2020 20:03</td>\n",
       "      <td>None</td>\n",
       "      <td>iv1970</td>\n",
       "      <td>Беседка за Октябрьским, 2Терпение жителей на и...</td>\n",
       "      <td>Уважаемый Владимир Евгеньевич! С 2017 года тян...</td>\n",
       "    </tr>\n",
       "    <tr>\n",
       "      <th>3</th>\n",
       "      <td>http://appeal.admtroitsk.ru/viewtopic.php?f=9&amp;...</td>\n",
       "      <td>12.06.2020 15:21</td>\n",
       "      <td>None</td>\n",
       "      <td>abryss</td>\n",
       "      <td>Борщевик в Троицке - 2</td>\n",
       "      <td>Здравствуйте. Ровно год назад я задавала вопро...</td>\n",
       "    </tr>\n",
       "    <tr>\n",
       "      <th>4</th>\n",
       "      <td>http://appeal.admtroitsk.ru/viewtopic.php?f=9&amp;...</td>\n",
       "      <td>11.06.2020 01:10</td>\n",
       "      <td>205</td>\n",
       "      <td>Ann</td>\n",
       "      <td>затопление подъезда в доме</td>\n",
       "      <td>Владимир Евгеньевич, здравствуйте.\\nВ доме, по...</td>\n",
       "    </tr>\n",
       "  </tbody>\n",
       "</table>\n",
       "</div>"
      ],
      "text/plain": [
       "                                                link              date views  \\\n",
       "0  http://appeal.admtroitsk.ru/viewtopic.php?f=9&...     Сегодня 13:39  None   \n",
       "1  http://appeal.admtroitsk.ru/viewtopic.php?f=9&...     Сегодня 00:23  None   \n",
       "2  http://appeal.admtroitsk.ru/viewtopic.php?f=9&...  12.06.2020 20:03  None   \n",
       "3  http://appeal.admtroitsk.ru/viewtopic.php?f=9&...  12.06.2020 15:21  None   \n",
       "4  http://appeal.admtroitsk.ru/viewtopic.php?f=9&...  11.06.2020 01:10   205   \n",
       "\n",
       "        author                                              title  \\\n",
       "0  Lappusyonok                     Устраните последствия непогоды   \n",
       "1    Anton1983        Площадка на ул Солнечной 4/6 Центральная 30   \n",
       "2       iv1970  Беседка за Октябрьским, 2Терпение жителей на и...   \n",
       "3       abryss                             Борщевик в Троицке - 2   \n",
       "4          Ann                         затопление подъезда в доме   \n",
       "\n",
       "                                                text  \n",
       "0  Здравствуйте, на крыше дома по адресу микрорай...  \n",
       "1  Поймите, как жителей людей, чьи окна выходят в...  \n",
       "2  Уважаемый Владимир Евгеньевич! С 2017 года тян...  \n",
       "3  Здравствуйте. Ровно год назад я задавала вопро...  \n",
       "4  Владимир Евгеньевич, здравствуйте.\\nВ доме, по...  "
      ]
     },
     "execution_count": 216,
     "metadata": {},
     "output_type": "execute_result"
    }
   ],
   "source": [
    "Dudochkin_data_v2.head()"
   ]
  },
  {
   "cell_type": "code",
   "execution_count": 227,
   "metadata": {},
   "outputs": [],
   "source": [
    "Dudochkin_data_v2.loc[1,'date']=Dudochkin_data_v2.loc[1,'date'].replace(\"Сегодня\", \"13.06.2020\")\n",
    "Dudochkin_data_v2.loc[0,'date']=Dudochkin_data_v2.loc[0,'date'].replace(\"Сегодня\", \"13.06.2020\")"
   ]
  },
  {
   "cell_type": "code",
   "execution_count": 228,
   "metadata": {},
   "outputs": [
    {
     "data": {
      "text/html": [
       "<div>\n",
       "<style scoped>\n",
       "    .dataframe tbody tr th:only-of-type {\n",
       "        vertical-align: middle;\n",
       "    }\n",
       "\n",
       "    .dataframe tbody tr th {\n",
       "        vertical-align: top;\n",
       "    }\n",
       "\n",
       "    .dataframe thead th {\n",
       "        text-align: right;\n",
       "    }\n",
       "</style>\n",
       "<table border=\"1\" class=\"dataframe\">\n",
       "  <thead>\n",
       "    <tr style=\"text-align: right;\">\n",
       "      <th></th>\n",
       "      <th>link</th>\n",
       "      <th>date</th>\n",
       "      <th>views</th>\n",
       "      <th>author</th>\n",
       "      <th>title</th>\n",
       "      <th>text</th>\n",
       "    </tr>\n",
       "  </thead>\n",
       "  <tbody>\n",
       "    <tr>\n",
       "      <th>0</th>\n",
       "      <td>http://appeal.admtroitsk.ru/viewtopic.php?f=9&amp;...</td>\n",
       "      <td>13.06.2020 13:39</td>\n",
       "      <td>None</td>\n",
       "      <td>Lappusyonok</td>\n",
       "      <td>Устраните последствия непогоды</td>\n",
       "      <td>Здравствуйте, на крыше дома по адресу микрорай...</td>\n",
       "    </tr>\n",
       "    <tr>\n",
       "      <th>1</th>\n",
       "      <td>http://appeal.admtroitsk.ru/viewtopic.php?f=9&amp;...</td>\n",
       "      <td>13.06.2020 00:23</td>\n",
       "      <td>None</td>\n",
       "      <td>Anton1983</td>\n",
       "      <td>Площадка на ул Солнечной 4/6 Центральная 30</td>\n",
       "      <td>Поймите, как жителей людей, чьи окна выходят в...</td>\n",
       "    </tr>\n",
       "    <tr>\n",
       "      <th>2</th>\n",
       "      <td>http://appeal.admtroitsk.ru/viewtopic.php?f=9&amp;...</td>\n",
       "      <td>12.06.2020 20:03</td>\n",
       "      <td>None</td>\n",
       "      <td>iv1970</td>\n",
       "      <td>Беседка за Октябрьским, 2Терпение жителей на и...</td>\n",
       "      <td>Уважаемый Владимир Евгеньевич! С 2017 года тян...</td>\n",
       "    </tr>\n",
       "    <tr>\n",
       "      <th>3</th>\n",
       "      <td>http://appeal.admtroitsk.ru/viewtopic.php?f=9&amp;...</td>\n",
       "      <td>12.06.2020 15:21</td>\n",
       "      <td>None</td>\n",
       "      <td>abryss</td>\n",
       "      <td>Борщевик в Троицке - 2</td>\n",
       "      <td>Здравствуйте. Ровно год назад я задавала вопро...</td>\n",
       "    </tr>\n",
       "    <tr>\n",
       "      <th>4</th>\n",
       "      <td>http://appeal.admtroitsk.ru/viewtopic.php?f=9&amp;...</td>\n",
       "      <td>11.06.2020 01:10</td>\n",
       "      <td>205</td>\n",
       "      <td>Ann</td>\n",
       "      <td>затопление подъезда в доме</td>\n",
       "      <td>Владимир Евгеньевич, здравствуйте.\\nВ доме, по...</td>\n",
       "    </tr>\n",
       "  </tbody>\n",
       "</table>\n",
       "</div>"
      ],
      "text/plain": [
       "                                                link              date views  \\\n",
       "0  http://appeal.admtroitsk.ru/viewtopic.php?f=9&...  13.06.2020 13:39  None   \n",
       "1  http://appeal.admtroitsk.ru/viewtopic.php?f=9&...  13.06.2020 00:23  None   \n",
       "2  http://appeal.admtroitsk.ru/viewtopic.php?f=9&...  12.06.2020 20:03  None   \n",
       "3  http://appeal.admtroitsk.ru/viewtopic.php?f=9&...  12.06.2020 15:21  None   \n",
       "4  http://appeal.admtroitsk.ru/viewtopic.php?f=9&...  11.06.2020 01:10   205   \n",
       "\n",
       "        author                                              title  \\\n",
       "0  Lappusyonok                     Устраните последствия непогоды   \n",
       "1    Anton1983        Площадка на ул Солнечной 4/6 Центральная 30   \n",
       "2       iv1970  Беседка за Октябрьским, 2Терпение жителей на и...   \n",
       "3       abryss                             Борщевик в Троицке - 2   \n",
       "4          Ann                         затопление подъезда в доме   \n",
       "\n",
       "                                                text  \n",
       "0  Здравствуйте, на крыше дома по адресу микрорай...  \n",
       "1  Поймите, как жителей людей, чьи окна выходят в...  \n",
       "2  Уважаемый Владимир Евгеньевич! С 2017 года тян...  \n",
       "3  Здравствуйте. Ровно год назад я задавала вопро...  \n",
       "4  Владимир Евгеньевич, здравствуйте.\\nВ доме, по...  "
      ]
     },
     "execution_count": 228,
     "metadata": {},
     "output_type": "execute_result"
    }
   ],
   "source": [
    "Dudochkin_data_v2.head()"
   ]
  },
  {
   "cell_type": "code",
   "execution_count": 230,
   "metadata": {},
   "outputs": [],
   "source": [
    "Dudochkin_data_v2.date=pd.to_datetime(Dudochkin_data_v2.date, errors='coerce')"
   ]
  },
  {
   "cell_type": "code",
   "execution_count": 234,
   "metadata": {},
   "outputs": [
    {
     "data": {
      "text/plain": [
       "link      0\n",
       "date      0\n",
       "views     6\n",
       "author    1\n",
       "title     0\n",
       "text      0\n",
       "dtype: int64"
      ]
     },
     "execution_count": 234,
     "metadata": {},
     "output_type": "execute_result"
    }
   ],
   "source": [
    "Dudochkin_data_v2.isna().sum()"
   ]
  },
  {
   "cell_type": "markdown",
   "metadata": {},
   "source": [
    "# Полученные данные:"
   ]
  },
  {
   "cell_type": "code",
   "execution_count": 232,
   "metadata": {},
   "outputs": [
    {
     "data": {
      "text/html": [
       "<div>\n",
       "<style scoped>\n",
       "    .dataframe tbody tr th:only-of-type {\n",
       "        vertical-align: middle;\n",
       "    }\n",
       "\n",
       "    .dataframe tbody tr th {\n",
       "        vertical-align: top;\n",
       "    }\n",
       "\n",
       "    .dataframe thead th {\n",
       "        text-align: right;\n",
       "    }\n",
       "</style>\n",
       "<table border=\"1\" class=\"dataframe\">\n",
       "  <thead>\n",
       "    <tr style=\"text-align: right;\">\n",
       "      <th></th>\n",
       "      <th>link</th>\n",
       "      <th>date</th>\n",
       "      <th>views</th>\n",
       "      <th>author</th>\n",
       "      <th>title</th>\n",
       "      <th>text</th>\n",
       "    </tr>\n",
       "  </thead>\n",
       "  <tbody>\n",
       "    <tr>\n",
       "      <th>0</th>\n",
       "      <td>http://appeal.admtroitsk.ru/viewtopic.php?f=9&amp;...</td>\n",
       "      <td>2020-06-13 13:39:00</td>\n",
       "      <td>None</td>\n",
       "      <td>Lappusyonok</td>\n",
       "      <td>Устраните последствия непогоды</td>\n",
       "      <td>Здравствуйте, на крыше дома по адресу микрорай...</td>\n",
       "    </tr>\n",
       "    <tr>\n",
       "      <th>1</th>\n",
       "      <td>http://appeal.admtroitsk.ru/viewtopic.php?f=9&amp;...</td>\n",
       "      <td>2020-06-13 00:23:00</td>\n",
       "      <td>None</td>\n",
       "      <td>Anton1983</td>\n",
       "      <td>Площадка на ул Солнечной 4/6 Центральная 30</td>\n",
       "      <td>Поймите, как жителей людей, чьи окна выходят в...</td>\n",
       "    </tr>\n",
       "    <tr>\n",
       "      <th>2</th>\n",
       "      <td>http://appeal.admtroitsk.ru/viewtopic.php?f=9&amp;...</td>\n",
       "      <td>2020-12-06 20:03:00</td>\n",
       "      <td>None</td>\n",
       "      <td>iv1970</td>\n",
       "      <td>Беседка за Октябрьским, 2Терпение жителей на и...</td>\n",
       "      <td>Уважаемый Владимир Евгеньевич! С 2017 года тян...</td>\n",
       "    </tr>\n",
       "    <tr>\n",
       "      <th>3</th>\n",
       "      <td>http://appeal.admtroitsk.ru/viewtopic.php?f=9&amp;...</td>\n",
       "      <td>2020-12-06 15:21:00</td>\n",
       "      <td>None</td>\n",
       "      <td>abryss</td>\n",
       "      <td>Борщевик в Троицке - 2</td>\n",
       "      <td>Здравствуйте. Ровно год назад я задавала вопро...</td>\n",
       "    </tr>\n",
       "    <tr>\n",
       "      <th>4</th>\n",
       "      <td>http://appeal.admtroitsk.ru/viewtopic.php?f=9&amp;...</td>\n",
       "      <td>2020-11-06 01:10:00</td>\n",
       "      <td>205</td>\n",
       "      <td>Ann</td>\n",
       "      <td>затопление подъезда в доме</td>\n",
       "      <td>Владимир Евгеньевич, здравствуйте.\\nВ доме, по...</td>\n",
       "    </tr>\n",
       "    <tr>\n",
       "      <th>5</th>\n",
       "      <td>http://appeal.admtroitsk.ru/viewtopic.php?f=9&amp;...</td>\n",
       "      <td>2020-11-06 19:50:00</td>\n",
       "      <td>152</td>\n",
       "      <td>Юрий Митрофанович</td>\n",
       "      <td>Детские площадки</td>\n",
       "      <td>Детские площадки в Москве должны быть закрыты ...</td>\n",
       "    </tr>\n",
       "    <tr>\n",
       "      <th>6</th>\n",
       "      <td>http://appeal.admtroitsk.ru/viewtopic.php?f=9&amp;...</td>\n",
       "      <td>2020-11-06 09:00:00</td>\n",
       "      <td>176</td>\n",
       "      <td>Zilber</td>\n",
       "      <td>Академический сквер</td>\n",
       "      <td>Владимир Евгеньевич добрый день!\\nКак же здоро...</td>\n",
       "    </tr>\n",
       "    <tr>\n",
       "      <th>7</th>\n",
       "      <td>http://appeal.admtroitsk.ru/viewtopic.php?f=9&amp;...</td>\n",
       "      <td>2020-09-06 14:14:00</td>\n",
       "      <td>188</td>\n",
       "      <td>dashenka.ivanova.11</td>\n",
       "      <td>Отказ в выплате на ребенка до 3х лет</td>\n",
       "      <td>Владимир Евгеньевич, добрый день, \\n18 мая под...</td>\n",
       "    </tr>\n",
       "    <tr>\n",
       "      <th>8</th>\n",
       "      <td>http://appeal.admtroitsk.ru/viewtopic.php?f=9&amp;...</td>\n",
       "      <td>2020-02-06 23:34:00</td>\n",
       "      <td>366</td>\n",
       "      <td>nataly</td>\n",
       "      <td>спортивная площадка на Юбилейной</td>\n",
       "      <td>Уважаемый Владимир Евгеньевич!\\nПриходится опя...</td>\n",
       "    </tr>\n",
       "    <tr>\n",
       "      <th>9</th>\n",
       "      <td>http://appeal.admtroitsk.ru/viewtopic.php?f=9&amp;...</td>\n",
       "      <td>2020-05-06 00:23:00</td>\n",
       "      <td>None</td>\n",
       "      <td>StepaN</td>\n",
       "      <td>Предложение на перспективу</td>\n",
       "      <td>Здравствуйте, Владимир Евгеньевич.\\nПризываю в...</td>\n",
       "    </tr>\n",
       "  </tbody>\n",
       "</table>\n",
       "</div>"
      ],
      "text/plain": [
       "                                                link                date  \\\n",
       "0  http://appeal.admtroitsk.ru/viewtopic.php?f=9&... 2020-06-13 13:39:00   \n",
       "1  http://appeal.admtroitsk.ru/viewtopic.php?f=9&... 2020-06-13 00:23:00   \n",
       "2  http://appeal.admtroitsk.ru/viewtopic.php?f=9&... 2020-12-06 20:03:00   \n",
       "3  http://appeal.admtroitsk.ru/viewtopic.php?f=9&... 2020-12-06 15:21:00   \n",
       "4  http://appeal.admtroitsk.ru/viewtopic.php?f=9&... 2020-11-06 01:10:00   \n",
       "5  http://appeal.admtroitsk.ru/viewtopic.php?f=9&... 2020-11-06 19:50:00   \n",
       "6  http://appeal.admtroitsk.ru/viewtopic.php?f=9&... 2020-11-06 09:00:00   \n",
       "7  http://appeal.admtroitsk.ru/viewtopic.php?f=9&... 2020-09-06 14:14:00   \n",
       "8  http://appeal.admtroitsk.ru/viewtopic.php?f=9&... 2020-02-06 23:34:00   \n",
       "9  http://appeal.admtroitsk.ru/viewtopic.php?f=9&... 2020-05-06 00:23:00   \n",
       "\n",
       "  views               author  \\\n",
       "0  None          Lappusyonok   \n",
       "1  None            Anton1983   \n",
       "2  None               iv1970   \n",
       "3  None               abryss   \n",
       "4   205                  Ann   \n",
       "5   152    Юрий Митрофанович   \n",
       "6   176               Zilber   \n",
       "7   188  dashenka.ivanova.11   \n",
       "8   366               nataly   \n",
       "9  None               StepaN   \n",
       "\n",
       "                                               title  \\\n",
       "0                     Устраните последствия непогоды   \n",
       "1        Площадка на ул Солнечной 4/6 Центральная 30   \n",
       "2  Беседка за Октябрьским, 2Терпение жителей на и...   \n",
       "3                             Борщевик в Троицке - 2   \n",
       "4                         затопление подъезда в доме   \n",
       "5                                   Детские площадки   \n",
       "6                                Академический сквер   \n",
       "7               Отказ в выплате на ребенка до 3х лет   \n",
       "8                   спортивная площадка на Юбилейной   \n",
       "9                         Предложение на перспективу   \n",
       "\n",
       "                                                text  \n",
       "0  Здравствуйте, на крыше дома по адресу микрорай...  \n",
       "1  Поймите, как жителей людей, чьи окна выходят в...  \n",
       "2  Уважаемый Владимир Евгеньевич! С 2017 года тян...  \n",
       "3  Здравствуйте. Ровно год назад я задавала вопро...  \n",
       "4  Владимир Евгеньевич, здравствуйте.\\nВ доме, по...  \n",
       "5  Детские площадки в Москве должны быть закрыты ...  \n",
       "6  Владимир Евгеньевич добрый день!\\nКак же здоро...  \n",
       "7  Владимир Евгеньевич, добрый день, \\n18 мая под...  \n",
       "8  Уважаемый Владимир Евгеньевич!\\nПриходится опя...  \n",
       "9  Здравствуйте, Владимир Евгеньевич.\\nПризываю в...  "
      ]
     },
     "execution_count": 232,
     "metadata": {},
     "output_type": "execute_result"
    }
   ],
   "source": [
    "Dudochkin_data_v2.head(10)"
   ]
  },
  {
   "cell_type": "code",
   "execution_count": 233,
   "metadata": {},
   "outputs": [],
   "source": [
    "Dudochkin_data_v2.to_csv(\"Dudochkin_queries.csv\", header=Dudochkin_data_v2.columns)"
   ]
  },
  {
   "cell_type": "code",
   "execution_count": 1,
   "metadata": {},
   "outputs": [],
   "source": [
    "import pandas as pd"
   ]
  },
  {
   "cell_type": "code",
   "execution_count": 4,
   "metadata": {},
   "outputs": [],
   "source": [
    "myDf=pd.read_csv(\"Dudochkin_queries.csv\", index_col=False)"
   ]
  },
  {
   "cell_type": "code",
   "execution_count": 7,
   "metadata": {},
   "outputs": [
    {
     "data": {
      "text/plain": [
       "Index(['Unnamed: 0', 'link', 'date', 'views', 'author', 'title', 'text'], dtype='object')"
      ]
     },
     "execution_count": 7,
     "metadata": {},
     "output_type": "execute_result"
    }
   ],
   "source": [
    "myDf.columns"
   ]
  },
  {
   "cell_type": "code",
   "execution_count": 8,
   "metadata": {},
   "outputs": [],
   "source": [
    "myDf.drop(\"Unnamed: 0\",axis=1,inplace=True)"
   ]
  },
  {
   "cell_type": "code",
   "execution_count": 9,
   "metadata": {},
   "outputs": [
    {
     "data": {
      "text/html": [
       "<div>\n",
       "<style scoped>\n",
       "    .dataframe tbody tr th:only-of-type {\n",
       "        vertical-align: middle;\n",
       "    }\n",
       "\n",
       "    .dataframe tbody tr th {\n",
       "        vertical-align: top;\n",
       "    }\n",
       "\n",
       "    .dataframe thead th {\n",
       "        text-align: right;\n",
       "    }\n",
       "</style>\n",
       "<table border=\"1\" class=\"dataframe\">\n",
       "  <thead>\n",
       "    <tr style=\"text-align: right;\">\n",
       "      <th></th>\n",
       "      <th>link</th>\n",
       "      <th>date</th>\n",
       "      <th>views</th>\n",
       "      <th>author</th>\n",
       "      <th>title</th>\n",
       "      <th>text</th>\n",
       "    </tr>\n",
       "  </thead>\n",
       "  <tbody>\n",
       "    <tr>\n",
       "      <th>0</th>\n",
       "      <td>http://appeal.admtroitsk.ru/viewtopic.php?f=9&amp;...</td>\n",
       "      <td>2020-06-13 13:39:00</td>\n",
       "      <td>NaN</td>\n",
       "      <td>Lappusyonok</td>\n",
       "      <td>Устраните последствия непогоды</td>\n",
       "      <td>Здравствуйте, на крыше дома по адресу микрорай...</td>\n",
       "    </tr>\n",
       "    <tr>\n",
       "      <th>1</th>\n",
       "      <td>http://appeal.admtroitsk.ru/viewtopic.php?f=9&amp;...</td>\n",
       "      <td>2020-06-13 00:23:00</td>\n",
       "      <td>NaN</td>\n",
       "      <td>Anton1983</td>\n",
       "      <td>Площадка на ул Солнечной 4/6 Центральная 30</td>\n",
       "      <td>Поймите, как жителей людей, чьи окна выходят в...</td>\n",
       "    </tr>\n",
       "    <tr>\n",
       "      <th>2</th>\n",
       "      <td>http://appeal.admtroitsk.ru/viewtopic.php?f=9&amp;...</td>\n",
       "      <td>2020-12-06 20:03:00</td>\n",
       "      <td>NaN</td>\n",
       "      <td>iv1970</td>\n",
       "      <td>Беседка за Октябрьским, 2Терпение жителей на и...</td>\n",
       "      <td>Уважаемый Владимир Евгеньевич! С 2017 года тян...</td>\n",
       "    </tr>\n",
       "    <tr>\n",
       "      <th>3</th>\n",
       "      <td>http://appeal.admtroitsk.ru/viewtopic.php?f=9&amp;...</td>\n",
       "      <td>2020-12-06 15:21:00</td>\n",
       "      <td>NaN</td>\n",
       "      <td>abryss</td>\n",
       "      <td>Борщевик в Троицке - 2</td>\n",
       "      <td>Здравствуйте. Ровно год назад я задавала вопро...</td>\n",
       "    </tr>\n",
       "    <tr>\n",
       "      <th>4</th>\n",
       "      <td>http://appeal.admtroitsk.ru/viewtopic.php?f=9&amp;...</td>\n",
       "      <td>2020-11-06 01:10:00</td>\n",
       "      <td>205.0</td>\n",
       "      <td>Ann</td>\n",
       "      <td>затопление подъезда в доме</td>\n",
       "      <td>Владимир Евгеньевич, здравствуйте.\\nВ доме, по...</td>\n",
       "    </tr>\n",
       "    <tr>\n",
       "      <th>5</th>\n",
       "      <td>http://appeal.admtroitsk.ru/viewtopic.php?f=9&amp;...</td>\n",
       "      <td>2020-11-06 19:50:00</td>\n",
       "      <td>152.0</td>\n",
       "      <td>Юрий Митрофанович</td>\n",
       "      <td>Детские площадки</td>\n",
       "      <td>Детские площадки в Москве должны быть закрыты ...</td>\n",
       "    </tr>\n",
       "    <tr>\n",
       "      <th>6</th>\n",
       "      <td>http://appeal.admtroitsk.ru/viewtopic.php?f=9&amp;...</td>\n",
       "      <td>2020-11-06 09:00:00</td>\n",
       "      <td>176.0</td>\n",
       "      <td>Zilber</td>\n",
       "      <td>Академический сквер</td>\n",
       "      <td>Владимир Евгеньевич добрый день!\\nКак же здоро...</td>\n",
       "    </tr>\n",
       "    <tr>\n",
       "      <th>7</th>\n",
       "      <td>http://appeal.admtroitsk.ru/viewtopic.php?f=9&amp;...</td>\n",
       "      <td>2020-09-06 14:14:00</td>\n",
       "      <td>188.0</td>\n",
       "      <td>dashenka.ivanova.11</td>\n",
       "      <td>Отказ в выплате на ребенка до 3х лет</td>\n",
       "      <td>Владимир Евгеньевич, добрый день, \\n18 мая под...</td>\n",
       "    </tr>\n",
       "    <tr>\n",
       "      <th>8</th>\n",
       "      <td>http://appeal.admtroitsk.ru/viewtopic.php?f=9&amp;...</td>\n",
       "      <td>2020-02-06 23:34:00</td>\n",
       "      <td>366.0</td>\n",
       "      <td>nataly</td>\n",
       "      <td>спортивная площадка на Юбилейной</td>\n",
       "      <td>Уважаемый Владимир Евгеньевич!\\nПриходится опя...</td>\n",
       "    </tr>\n",
       "    <tr>\n",
       "      <th>9</th>\n",
       "      <td>http://appeal.admtroitsk.ru/viewtopic.php?f=9&amp;...</td>\n",
       "      <td>2020-05-06 00:23:00</td>\n",
       "      <td>NaN</td>\n",
       "      <td>StepaN</td>\n",
       "      <td>Предложение на перспективу</td>\n",
       "      <td>Здравствуйте, Владимир Евгеньевич.\\nПризываю в...</td>\n",
       "    </tr>\n",
       "  </tbody>\n",
       "</table>\n",
       "</div>"
      ],
      "text/plain": [
       "                                                link                 date  \\\n",
       "0  http://appeal.admtroitsk.ru/viewtopic.php?f=9&...  2020-06-13 13:39:00   \n",
       "1  http://appeal.admtroitsk.ru/viewtopic.php?f=9&...  2020-06-13 00:23:00   \n",
       "2  http://appeal.admtroitsk.ru/viewtopic.php?f=9&...  2020-12-06 20:03:00   \n",
       "3  http://appeal.admtroitsk.ru/viewtopic.php?f=9&...  2020-12-06 15:21:00   \n",
       "4  http://appeal.admtroitsk.ru/viewtopic.php?f=9&...  2020-11-06 01:10:00   \n",
       "5  http://appeal.admtroitsk.ru/viewtopic.php?f=9&...  2020-11-06 19:50:00   \n",
       "6  http://appeal.admtroitsk.ru/viewtopic.php?f=9&...  2020-11-06 09:00:00   \n",
       "7  http://appeal.admtroitsk.ru/viewtopic.php?f=9&...  2020-09-06 14:14:00   \n",
       "8  http://appeal.admtroitsk.ru/viewtopic.php?f=9&...  2020-02-06 23:34:00   \n",
       "9  http://appeal.admtroitsk.ru/viewtopic.php?f=9&...  2020-05-06 00:23:00   \n",
       "\n",
       "   views               author  \\\n",
       "0    NaN          Lappusyonok   \n",
       "1    NaN            Anton1983   \n",
       "2    NaN               iv1970   \n",
       "3    NaN               abryss   \n",
       "4  205.0                  Ann   \n",
       "5  152.0    Юрий Митрофанович   \n",
       "6  176.0               Zilber   \n",
       "7  188.0  dashenka.ivanova.11   \n",
       "8  366.0               nataly   \n",
       "9    NaN               StepaN   \n",
       "\n",
       "                                               title  \\\n",
       "0                     Устраните последствия непогоды   \n",
       "1        Площадка на ул Солнечной 4/6 Центральная 30   \n",
       "2  Беседка за Октябрьским, 2Терпение жителей на и...   \n",
       "3                             Борщевик в Троицке - 2   \n",
       "4                         затопление подъезда в доме   \n",
       "5                                   Детские площадки   \n",
       "6                                Академический сквер   \n",
       "7               Отказ в выплате на ребенка до 3х лет   \n",
       "8                   спортивная площадка на Юбилейной   \n",
       "9                         Предложение на перспективу   \n",
       "\n",
       "                                                text  \n",
       "0  Здравствуйте, на крыше дома по адресу микрорай...  \n",
       "1  Поймите, как жителей людей, чьи окна выходят в...  \n",
       "2  Уважаемый Владимир Евгеньевич! С 2017 года тян...  \n",
       "3  Здравствуйте. Ровно год назад я задавала вопро...  \n",
       "4  Владимир Евгеньевич, здравствуйте.\\nВ доме, по...  \n",
       "5  Детские площадки в Москве должны быть закрыты ...  \n",
       "6  Владимир Евгеньевич добрый день!\\nКак же здоро...  \n",
       "7  Владимир Евгеньевич, добрый день, \\n18 мая под...  \n",
       "8  Уважаемый Владимир Евгеньевич!\\nПриходится опя...  \n",
       "9  Здравствуйте, Владимир Евгеньевич.\\nПризываю в...  "
      ]
     },
     "execution_count": 9,
     "metadata": {},
     "output_type": "execute_result"
    }
   ],
   "source": [
    "myDf.head(10)"
   ]
  },
  {
   "cell_type": "code",
   "execution_count": null,
   "metadata": {},
   "outputs": [],
   "source": []
  }
 ],
 "metadata": {
  "kernelspec": {
   "display_name": "Python 3",
   "language": "python",
   "name": "python3"
  },
  "language_info": {
   "codemirror_mode": {
    "name": "ipython",
    "version": 3
   },
   "file_extension": ".py",
   "mimetype": "text/x-python",
   "name": "python",
   "nbconvert_exporter": "python",
   "pygments_lexer": "ipython3",
   "version": "3.7.6"
  }
 },
 "nbformat": 4,
 "nbformat_minor": 4
}
